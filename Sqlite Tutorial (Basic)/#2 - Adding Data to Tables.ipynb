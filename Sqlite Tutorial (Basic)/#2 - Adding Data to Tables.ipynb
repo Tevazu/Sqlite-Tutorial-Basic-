{
 "cells": [
  {
   "cell_type": "markdown",
   "id": "c63cf48f",
   "metadata": {},
   "source": [
    "## Data insertion codes:"
   ]
  },
  {
   "cell_type": "markdown",
   "id": "fbc21390",
   "metadata": {},
   "source": [
    "**INSERT INTO library VALUES ('İstanbul Hatırası','Ahmet Ümit','Everest','561')**                                                          \n",
    " **Note:** SQL queries can also be written in uppercase or lowercase letters. Ex:                            \n",
    " \n",
    " **insert into library values ('İstanbul Hatırası','Ahmet Ümit','Everest','561')**                                                          \n",
    " **Insert into library Values ('İstanbul Hatırası','Ahmet Ümit','Everest','561')**"
   ]
  },
  {
   "cell_type": "markdown",
   "id": "4afe1944",
   "metadata": {},
   "source": [
    "**---Now we continue from the data in the Sqlite Database folder that we created in the previous tutorial---**"
   ]
  },
  {
   "cell_type": "code",
   "execution_count": null,
   "id": "03edbf17",
   "metadata": {},
   "outputs": [],
   "source": [
    "import sqlite3\n",
    "\n",
    "con = sqlite3.connect(\"library.db\") #We created and connected a database named library.\n",
    "\n",
    "cursor = con.cursor()   #We have assigned a cursor.\n",
    "\n",
    "def create_table():\n",
    "    cursor.execute(\"CREATE TABLE IF NOT EXISTS library (Name TEXT, Author TEXT, Publisher TEXT, Page_Number INT)\")\n",
    "    con.commit()    #We write this line for the query to activate.\n",
    "\n",
    "def add_data(): # Program will add this book to table itself.\n",
    "    cursor.execute(\"Insert into library Values('Pinocchio','Carlo Collodi','Simon & Schuster',166)\")\n",
    "    con.commit()    #The values we have given at the moment are added to the table in order.\n",
    "\n",
    "def add_data2(name,author,publisher,page_number): # Program will take inputs from the user and add this book to table.\n",
    "    cursor.execute(\"Insert into library Values(?,?,?,?)\",(name,author,publisher,page_number))\n",
    "    con.commit()    #The program will perform the operations in the previous function with the inputs it receives from the user.\n",
    "\n",
    "name = input(\"Name:\")\n",
    "author = input(\"Author:\")\n",
    "publisher = input(\"Publisher:\")\n",
    "page_number = int(input(\"Page Number:\"))\n",
    "\n",
    "add_data2(name,author,publisher,page_number)\n",
    "#create_table() -------> We don't use it right now so that's why it's marked.\n",
    "\n",
    "con.close() #To terminate and shut down the system.\n"
   ]
  },
  {
   "cell_type": "code",
   "execution_count": null,
   "id": "88a0527d",
   "metadata": {},
   "outputs": [],
   "source": []
  }
 ],
 "metadata": {
  "kernelspec": {
   "display_name": "Python 3",
   "language": "python",
   "name": "python3"
  },
  "language_info": {
   "codemirror_mode": {
    "name": "ipython",
    "version": 3
   },
   "file_extension": ".py",
   "mimetype": "text/x-python",
   "name": "python",
   "nbconvert_exporter": "python",
   "pygments_lexer": "ipython3",
   "version": "3.8.8"
  }
 },
 "nbformat": 4,
 "nbformat_minor": 5
}
