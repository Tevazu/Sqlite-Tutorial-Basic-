{
 "cells": [
  {
   "cell_type": "markdown",
   "id": "86fd7b67",
   "metadata": {},
   "source": [
    "### Tablodan Veri Okuma Kodları:"
   ]
  },
  {
   "cell_type": "markdown",
   "id": "0fc6f232",
   "metadata": {},
   "source": [
    "**• Select * From library** ---> The meaning of the asterisk: all the information in the table. So it gets all the information.                     \n",
    "**• Select Name,Author From library** ---> It gets info of Name and Author                                                        \n",
    "**• Select * From library where Publisher = 'Everest'** ---> Only publisher feature Everest gets ones.\n",
    "\n",
    "**Code:**"
   ]
  },
  {
   "cell_type": "code",
   "execution_count": null,
   "id": "70923229",
   "metadata": {},
   "outputs": [],
   "source": [
    "import sqlite3\n",
    "\n",
    "con = sqlite3.connect(\"library.db\") \n",
    "\n",
    "cursor = con.cursor()   \n",
    "\n",
    "def create_table():\n",
    "    cursor.execute(\"CREATE TABLE IF NOT EXISTS library (Name TEXT, Author TEXT, Publisher TEXT, Page_Number INT)\")\n",
    "    con.commit()   \n",
    "\n",
    "def add_data():\n",
    "    cursor.execute(\"Insert into library Values('random name','random author','random publisher,random page number)\")\n",
    "    con.commit()    \n",
    "\n",
    "def add_data2(name,author,publisher,page_number):\n",
    "    cursor.execute(\"Insert into library Values(?,?,?,?)\",(name,author,publisher,page_number))\n",
    "    con.commit()    \n",
    "\n",
    "def get_data():\n",
    "    cursor.execute(\"Select * From library\")\n",
    "    list = cursor.fetchall()   #We use fetchall to make the query work and since this list is returned, we put it in the list.\n",
    "    #print(list) ---> We don't use con.commit() here, because fetchall already takes care of running the query.\n",
    "    #If we want it to look neater we can use a for loop:\n",
    "    print(\"\\n\\tInformation of the Library Table:\\n\")\n",
    "    for i in list:\n",
    "        print(i)\n",
    "\n",
    "def get_data2():\n",
    "    cursor.execute(\"Select Name,Author From library\")\n",
    "    list = cursor.fetchall()\n",
    "    print(\"\\n    Information by Name and Author:\\n\")\n",
    "    for i in list:\n",
    "        print(i)\n",
    "\n",
    "def get_data3(publisher):\n",
    "    cursor.execute(\"Select * From library where Publisher = ?\",(publisher,))\n",
    "    list = cursor.fetchall()\n",
    "    print(\"\\nInformation of the Books Published by the Publisher You Have Selected:\\n\")\n",
    "    for i in list:\n",
    "        print(i)\n",
    "        \n",
    "\n",
    "\n",
    "get_data3(\"Everest\")   #---------->    Choose publisher in this statement.\n",
    "\n",
    "\n",
    "con.close() #Sistemi sonlandırmak ve kapatmak için."
   ]
  }
 ],
 "metadata": {
  "kernelspec": {
   "display_name": "Python 3",
   "language": "python",
   "name": "python3"
  },
  "language_info": {
   "codemirror_mode": {
    "name": "ipython",
    "version": 3
   },
   "file_extension": ".py",
   "mimetype": "text/x-python",
   "name": "python",
   "nbconvert_exporter": "python",
   "pygments_lexer": "ipython3",
   "version": "3.8.8"
  }
 },
 "nbformat": 4,
 "nbformat_minor": 5
}
