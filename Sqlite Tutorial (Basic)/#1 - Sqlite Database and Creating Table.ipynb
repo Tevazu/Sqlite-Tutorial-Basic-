{
 "cells": [
  {
   "cell_type": "markdown",
   "id": "a94b93e0",
   "metadata": {},
   "source": [
    "### **I'LL EXPLAIN ONLY BASIC SQLITE INFORMATION IF YOU WANT TO LEARN IT FULLY, YOU MUST TAKE COURSES.**\n",
    "#### What is Database?\n",
    "• It's a place where we store our information in our apps, website or programs Ex: Facebook;\n",
    "\n",
    "   **◘ Relational Database:** Consists of tables. Ex: Mysql, Sqlite etc.\\\n",
    "   **◘ DocumentBased Database:** Consists of documents. Ex: .json, MongoDb, Azure DocumentDb\\\n",
    "            .\\\n",
    "            .\\\n",
    "            .\\\n",
    "            \n",
    "**• We'll go wtih Sqlite Database. This database consists of tables and each table holds data grouped in the database.**"
   ]
  },
  {
   "cell_type": "markdown",
   "id": "2a9f2481",
   "metadata": {},
   "source": [
    "**IMPORTANT:** Sqlite does not require us to set up a server like other databases, so it can be installed directly next to any of our programs.\\\n",
    "\\\n",
    "• How do we perform operations such as **creating a table, adding data** on this database?\\\n",
    "• Relational databases perform table operations with a query language called **SQL(Structured Query Language)**.\\\n",
    "**• You can review SQL here: https://www.w3schools.com/SQL/deFault.asp**"
   ]
  },
  {
   "cell_type": "markdown",
   "id": "57ed98e5",
   "metadata": {},
   "source": [
    "### Software to be used:\n",
    "After performing operations in the sqlite database, we use its own program to examine it:\\\n",
    " Download link: http://sqlitebrowser.org/"
   ]
  },
  {
   "cell_type": "markdown",
   "id": "7f4fc791",
   "metadata": {},
   "source": [
    "### Step by Step Sqlite:"
   ]
  },
  {
   "cell_type": "markdown",
   "id": "63f383e1",
   "metadata": {},
   "source": [
    "**1.**  We create a folder called **Sqlite Database**, then create a text file inside this folder and convert it into a python file as \"name.py\" and open it with idle and write our codes there.\n",
    "\n",
    "**2.** import sqlite3 ------> Include module.\n",
    "\n",
    "**3.** con = sqlite3.connect(\"library.db\") ------> We create and connect the **library.db** database. If there is such a database, it connects, otherwise it creates and connects. We assign the link to a variable named **\"con\"**.\n",
    "\n",
    "**4.** We create a **cursor** to run SQL queries on the database.                                                                                  \n",
    "**cursor = con.cursor()**\n",
    "\n",
    "\n",
    "**5.** At the end of database operations, we disconnect with **con.close()**\n",
    "\n",
    "**6.** Currently, the database file named library has been created in the folder named Sqlite Database, but it is empty because we have not done anything."
   ]
  },
  {
   "cell_type": "markdown",
   "id": "d3d47ecb",
   "metadata": {},
   "source": [
    "### Creating a Library Table:"
   ]
  },
  {
   "cell_type": "markdown",
   "id": "e2f10130",
   "metadata": {},
   "source": [
    "We can use one of 2 queries to create a table named **library** in the database:\n",
    "\n",
    "**CREATE TABLE library (Name TEXT, Author TEXT, Publisher TEXT, Page_Number INT)** -----> we will assign the features we have given in order, but if we run this query repeatedly, we will get a \"Table Already Exists\" error because it already created one. So, the next query is recommended to use.\n",
    "\n",
    "**CREATE TABLE IF NOT EXISTS kitaplık (İsim TEXT, Yazar TEXT, Yayınevi TEXT, Sayfa_Sayısı INT)** -----> If there is no table, it will create it, and if there is, it will not give an error.\n",
    "\n",
    "Codes:"
   ]
  },
  {
   "cell_type": "code",
   "execution_count": 1,
   "id": "db3f2020",
   "metadata": {},
   "outputs": [],
   "source": [
    "import sqlite3 # We include sqlite\n",
    "\n",
    "con = sqlite3.connect(\"library.db\") # We connect to the table.\n",
    "\n",
    "cursor = con.cursor() # The variable named cursor will be the cursor we will use to operate on the database.\n",
    "\n",
    "\n",
    "con.close() # We disconnect"
   ]
  }
 ],
 "metadata": {
  "kernelspec": {
   "display_name": "Python 3",
   "language": "python",
   "name": "python3"
  },
  "language_info": {
   "codemirror_mode": {
    "name": "ipython",
    "version": 3
   },
   "file_extension": ".py",
   "mimetype": "text/x-python",
   "name": "python",
   "nbconvert_exporter": "python",
   "pygments_lexer": "ipython3",
   "version": "3.8.8"
  }
 },
 "nbformat": 4,
 "nbformat_minor": 5
}
