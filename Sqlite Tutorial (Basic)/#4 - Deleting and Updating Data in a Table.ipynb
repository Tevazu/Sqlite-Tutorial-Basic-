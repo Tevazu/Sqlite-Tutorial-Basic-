{
 "cells": [
  {
   "cell_type": "markdown",
   "id": "6fad334f",
   "metadata": {},
   "source": [
    "## Updating Data:\n",
    "\n",
    "**• Update library set Publisher = 'Everest' where Publisher = 'Macmillan'** ----->Updates the publisher information of the books whose publisher is Macmillan as 'Everest'."
   ]
  },
  {
   "cell_type": "markdown",
   "id": "167bb54f",
   "metadata": {},
   "source": [
    "## Deleting Data:\n",
    "\n",
    "**• Delete From library where Author = 'Ahmet Ümit'** -----> Deletes the books whose author property is **Ahmet Ümit** from the table.\n",
    "\n",
    "**Code:**"
   ]
  },
  {
   "cell_type": "code",
   "execution_count": null,
   "id": "71d3954a",
   "metadata": {},
   "outputs": [],
   "source": [
    "import sqlite3\n",
    "\n",
    "con = sqlite3.connect(\"library.db\") \n",
    "\n",
    "cursor = con.cursor()\n",
    "\n",
    "def create_table():\n",
    "    cursor.execute(\"CREATE TABLE IF NOT EXISTS library (Name TEXT, Author TEXT, Publisher TEXT, Page_Numbers INT)\")\n",
    "    con.commit()    \n",
    "\n",
    "def add_data():\n",
    "    cursor.execute(\"Insert into library Values('random name','random author','random publisher',random page number)\")\n",
    "    con.commit()    \n",
    "\n",
    "def  add_data(name,author,publisher,page_number):\n",
    "    cursor.execute(\"Insert into library Values(?,?,?,?)\",(name,author,publisher,page_number))\n",
    "    con.commit()   \n",
    "\n",
    "def get_data():\n",
    "    cursor.execute(\"Select * From library\")\n",
    "    list = cursor.fetchall()\n",
    "    print(\"\\n\\tInformation of the Library Table:\\n\")\n",
    "    for i in list:\n",
    "        print(i)\n",
    "\n",
    "def get_data():\n",
    "    cursor.execute(\"Select Name,Author From library\")\n",
    "    list = cursor.fetchall()\n",
    "    print(\"\\n    Information by Name and Author:\\n\")\n",
    "    for i in list:\n",
    "        print(i)\n",
    "\n",
    "def get_data(publisher):\n",
    "    cursor.execute(\"Select * From library where Publisher = ?\",(publisher,))\n",
    "    list = cursor.fetchall()\n",
    "    print(\"\\nInformation of the Books Published by the Publisher You Have Selected:\\n\")\n",
    "    for i in list:\n",
    "        print(i)\n",
    "\n",
    "def update_data(old_publisher, new_publisher):\n",
    "    cursor.execute (\"Update library set Publisher = ? where Publisher = ?\",(new_publisher, old_publisher,))\n",
    "    con.commit()\n",
    "    \n",
    "def delete_data(author):\n",
    "    cursor.execute (\"Delete From library where Author = ?\",(author,))\n",
    "    con.commit()\n",
    "\n",
    "\n",
    "\n",
    "delete_data(\"a name in the author table\")\n",
    "update_data(\"a new publisher name\",\"an older name in the publisher table\")\n",
    "\n",
    "\n",
    "con.close() "
   ]
  }
 ],
 "metadata": {
  "kernelspec": {
   "display_name": "Python 3",
   "language": "python",
   "name": "python3"
  },
  "language_info": {
   "codemirror_mode": {
    "name": "ipython",
    "version": 3
   },
   "file_extension": ".py",
   "mimetype": "text/x-python",
   "name": "python",
   "nbconvert_exporter": "python",
   "pygments_lexer": "ipython3",
   "version": "3.8.8"
  }
 },
 "nbformat": 4,
 "nbformat_minor": 5
}
